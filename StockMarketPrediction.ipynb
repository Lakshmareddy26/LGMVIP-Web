{
  "nbformat": 4,
  "nbformat_minor": 0,
  "metadata": {
    "colab": {
      "name": "StockMarketPrediction.ipynb",
      "provenance": [],
      "collapsed_sections": []
    },
    "kernelspec": {
      "name": "python3",
      "display_name": "Python 3"
    },
    "language_info": {
      "name": "python"
    }
  },
  "cells": [
    {
      "cell_type": "code",
      "metadata": {
        "id": "6yToRt-lLrZ7"
      },
      "source": [
        "import pandas as pd\n",
        "import matplotlib.pyplot as plt\n",
        "import numpy as np\n",
        "from sklearn.preprocessing import MinMaxScaler"
      ],
      "execution_count": 31,
      "outputs": []
    },
    {
      "cell_type": "code",
      "metadata": {
        "id": "OjSWhlLdL556"
      },
      "source": [
        "data = pd.read_csv('/content/NSE.csv')"
      ],
      "execution_count": 32,
      "outputs": []
    },
    {
      "cell_type": "code",
      "metadata": {
        "colab": {
          "base_uri": "https://localhost:8080/",
          "height": 206
        },
        "id": "Bog8ubT8MLSl",
        "outputId": "3d90ca28-c249-4e6c-d9ac-6630553451cc"
      },
      "source": [
        "data.head()"
      ],
      "execution_count": 33,
      "outputs": [
        {
          "output_type": "execute_result",
          "data": {
            "text/html": [
              "<div>\n",
              "<style scoped>\n",
              "    .dataframe tbody tr th:only-of-type {\n",
              "        vertical-align: middle;\n",
              "    }\n",
              "\n",
              "    .dataframe tbody tr th {\n",
              "        vertical-align: top;\n",
              "    }\n",
              "\n",
              "    .dataframe thead th {\n",
              "        text-align: right;\n",
              "    }\n",
              "</style>\n",
              "<table border=\"1\" class=\"dataframe\">\n",
              "  <thead>\n",
              "    <tr style=\"text-align: right;\">\n",
              "      <th></th>\n",
              "      <th>Date</th>\n",
              "      <th>Open</th>\n",
              "      <th>High</th>\n",
              "      <th>Low</th>\n",
              "      <th>Last</th>\n",
              "      <th>Close</th>\n",
              "      <th>Total Trade Quantity</th>\n",
              "      <th>Turnover (Lacs)</th>\n",
              "    </tr>\n",
              "  </thead>\n",
              "  <tbody>\n",
              "    <tr>\n",
              "      <th>0</th>\n",
              "      <td>2018-10-08</td>\n",
              "      <td>208.00</td>\n",
              "      <td>222.25</td>\n",
              "      <td>206.85</td>\n",
              "      <td>216.00</td>\n",
              "      <td>215.15</td>\n",
              "      <td>4642146.0</td>\n",
              "      <td>10062.83</td>\n",
              "    </tr>\n",
              "    <tr>\n",
              "      <th>1</th>\n",
              "      <td>2018-10-05</td>\n",
              "      <td>217.00</td>\n",
              "      <td>218.60</td>\n",
              "      <td>205.90</td>\n",
              "      <td>210.25</td>\n",
              "      <td>209.20</td>\n",
              "      <td>3519515.0</td>\n",
              "      <td>7407.06</td>\n",
              "    </tr>\n",
              "    <tr>\n",
              "      <th>2</th>\n",
              "      <td>2018-10-04</td>\n",
              "      <td>223.50</td>\n",
              "      <td>227.80</td>\n",
              "      <td>216.15</td>\n",
              "      <td>217.25</td>\n",
              "      <td>218.20</td>\n",
              "      <td>1728786.0</td>\n",
              "      <td>3815.79</td>\n",
              "    </tr>\n",
              "    <tr>\n",
              "      <th>3</th>\n",
              "      <td>2018-10-03</td>\n",
              "      <td>230.00</td>\n",
              "      <td>237.50</td>\n",
              "      <td>225.75</td>\n",
              "      <td>226.45</td>\n",
              "      <td>227.60</td>\n",
              "      <td>1708590.0</td>\n",
              "      <td>3960.27</td>\n",
              "    </tr>\n",
              "    <tr>\n",
              "      <th>4</th>\n",
              "      <td>2018-10-01</td>\n",
              "      <td>234.55</td>\n",
              "      <td>234.60</td>\n",
              "      <td>221.05</td>\n",
              "      <td>230.30</td>\n",
              "      <td>230.90</td>\n",
              "      <td>1534749.0</td>\n",
              "      <td>3486.05</td>\n",
              "    </tr>\n",
              "  </tbody>\n",
              "</table>\n",
              "</div>"
            ],
            "text/plain": [
              "         Date    Open    High  ...   Close  Total Trade Quantity  Turnover (Lacs)\n",
              "0  2018-10-08  208.00  222.25  ...  215.15             4642146.0         10062.83\n",
              "1  2018-10-05  217.00  218.60  ...  209.20             3519515.0          7407.06\n",
              "2  2018-10-04  223.50  227.80  ...  218.20             1728786.0          3815.79\n",
              "3  2018-10-03  230.00  237.50  ...  227.60             1708590.0          3960.27\n",
              "4  2018-10-01  234.55  234.60  ...  230.90             1534749.0          3486.05\n",
              "\n",
              "[5 rows x 8 columns]"
            ]
          },
          "metadata": {},
          "execution_count": 33
        }
      ]
    },
    {
      "cell_type": "code",
      "metadata": {
        "colab": {
          "base_uri": "https://localhost:8080/",
          "height": 206
        },
        "id": "J5aXwxrLMOKS",
        "outputId": "a9893379-2222-4c09-8140-d17934bb5f9b"
      },
      "source": [
        "data.tail()"
      ],
      "execution_count": 34,
      "outputs": [
        {
          "output_type": "execute_result",
          "data": {
            "text/html": [
              "<div>\n",
              "<style scoped>\n",
              "    .dataframe tbody tr th:only-of-type {\n",
              "        vertical-align: middle;\n",
              "    }\n",
              "\n",
              "    .dataframe tbody tr th {\n",
              "        vertical-align: top;\n",
              "    }\n",
              "\n",
              "    .dataframe thead th {\n",
              "        text-align: right;\n",
              "    }\n",
              "</style>\n",
              "<table border=\"1\" class=\"dataframe\">\n",
              "  <thead>\n",
              "    <tr style=\"text-align: right;\">\n",
              "      <th></th>\n",
              "      <th>Date</th>\n",
              "      <th>Open</th>\n",
              "      <th>High</th>\n",
              "      <th>Low</th>\n",
              "      <th>Last</th>\n",
              "      <th>Close</th>\n",
              "      <th>Total Trade Quantity</th>\n",
              "      <th>Turnover (Lacs)</th>\n",
              "    </tr>\n",
              "  </thead>\n",
              "  <tbody>\n",
              "    <tr>\n",
              "      <th>1230</th>\n",
              "      <td>2013-10-14</td>\n",
              "      <td>160.85</td>\n",
              "      <td>161.45</td>\n",
              "      <td>157.70</td>\n",
              "      <td>159.3</td>\n",
              "      <td>159.45</td>\n",
              "      <td>1281419.0</td>\n",
              "      <td>2039.09</td>\n",
              "    </tr>\n",
              "    <tr>\n",
              "      <th>1231</th>\n",
              "      <td>2013-10-11</td>\n",
              "      <td>161.15</td>\n",
              "      <td>163.45</td>\n",
              "      <td>159.00</td>\n",
              "      <td>159.8</td>\n",
              "      <td>160.05</td>\n",
              "      <td>1880046.0</td>\n",
              "      <td>3030.76</td>\n",
              "    </tr>\n",
              "    <tr>\n",
              "      <th>1232</th>\n",
              "      <td>2013-10-10</td>\n",
              "      <td>156.00</td>\n",
              "      <td>160.80</td>\n",
              "      <td>155.85</td>\n",
              "      <td>160.3</td>\n",
              "      <td>160.15</td>\n",
              "      <td>3124853.0</td>\n",
              "      <td>4978.80</td>\n",
              "    </tr>\n",
              "    <tr>\n",
              "      <th>1233</th>\n",
              "      <td>2013-10-09</td>\n",
              "      <td>155.70</td>\n",
              "      <td>158.20</td>\n",
              "      <td>154.15</td>\n",
              "      <td>155.3</td>\n",
              "      <td>155.55</td>\n",
              "      <td>2049580.0</td>\n",
              "      <td>3204.49</td>\n",
              "    </tr>\n",
              "    <tr>\n",
              "      <th>1234</th>\n",
              "      <td>2013-10-08</td>\n",
              "      <td>157.00</td>\n",
              "      <td>157.80</td>\n",
              "      <td>155.20</td>\n",
              "      <td>155.8</td>\n",
              "      <td>155.80</td>\n",
              "      <td>1720413.0</td>\n",
              "      <td>2688.94</td>\n",
              "    </tr>\n",
              "  </tbody>\n",
              "</table>\n",
              "</div>"
            ],
            "text/plain": [
              "            Date    Open    High  ...   Close  Total Trade Quantity  Turnover (Lacs)\n",
              "1230  2013-10-14  160.85  161.45  ...  159.45             1281419.0          2039.09\n",
              "1231  2013-10-11  161.15  163.45  ...  160.05             1880046.0          3030.76\n",
              "1232  2013-10-10  156.00  160.80  ...  160.15             3124853.0          4978.80\n",
              "1233  2013-10-09  155.70  158.20  ...  155.55             2049580.0          3204.49\n",
              "1234  2013-10-08  157.00  157.80  ...  155.80             1720413.0          2688.94\n",
              "\n",
              "[5 rows x 8 columns]"
            ]
          },
          "metadata": {},
          "execution_count": 34
        }
      ]
    },
    {
      "cell_type": "code",
      "metadata": {
        "colab": {
          "base_uri": "https://localhost:8080/"
        },
        "id": "oiwzHAm9MQZJ",
        "outputId": "7a91d6f1-d7bf-4c29-d1aa-3de555285bdc"
      },
      "source": [
        "data['Date']=pd.to_datetime(data['Date'])\n",
        "print(type(data.Date[0]))"
      ],
      "execution_count": 35,
      "outputs": [
        {
          "output_type": "stream",
          "name": "stdout",
          "text": [
            "<class 'pandas._libs.tslibs.timestamps.Timestamp'>\n"
          ]
        }
      ]
    },
    {
      "cell_type": "code",
      "metadata": {
        "colab": {
          "base_uri": "https://localhost:8080/",
          "height": 206
        },
        "id": "35RfjfmnMTDb",
        "outputId": "ee447399-f8a6-4fda-9eb9-37fede7291af"
      },
      "source": [
        "df=data.sort_values(by='Date')\n",
        "df.head()"
      ],
      "execution_count": 36,
      "outputs": [
        {
          "output_type": "execute_result",
          "data": {
            "text/html": [
              "<div>\n",
              "<style scoped>\n",
              "    .dataframe tbody tr th:only-of-type {\n",
              "        vertical-align: middle;\n",
              "    }\n",
              "\n",
              "    .dataframe tbody tr th {\n",
              "        vertical-align: top;\n",
              "    }\n",
              "\n",
              "    .dataframe thead th {\n",
              "        text-align: right;\n",
              "    }\n",
              "</style>\n",
              "<table border=\"1\" class=\"dataframe\">\n",
              "  <thead>\n",
              "    <tr style=\"text-align: right;\">\n",
              "      <th></th>\n",
              "      <th>Date</th>\n",
              "      <th>Open</th>\n",
              "      <th>High</th>\n",
              "      <th>Low</th>\n",
              "      <th>Last</th>\n",
              "      <th>Close</th>\n",
              "      <th>Total Trade Quantity</th>\n",
              "      <th>Turnover (Lacs)</th>\n",
              "    </tr>\n",
              "  </thead>\n",
              "  <tbody>\n",
              "    <tr>\n",
              "      <th>1234</th>\n",
              "      <td>2013-10-08</td>\n",
              "      <td>157.00</td>\n",
              "      <td>157.80</td>\n",
              "      <td>155.20</td>\n",
              "      <td>155.8</td>\n",
              "      <td>155.80</td>\n",
              "      <td>1720413.0</td>\n",
              "      <td>2688.94</td>\n",
              "    </tr>\n",
              "    <tr>\n",
              "      <th>1233</th>\n",
              "      <td>2013-10-09</td>\n",
              "      <td>155.70</td>\n",
              "      <td>158.20</td>\n",
              "      <td>154.15</td>\n",
              "      <td>155.3</td>\n",
              "      <td>155.55</td>\n",
              "      <td>2049580.0</td>\n",
              "      <td>3204.49</td>\n",
              "    </tr>\n",
              "    <tr>\n",
              "      <th>1232</th>\n",
              "      <td>2013-10-10</td>\n",
              "      <td>156.00</td>\n",
              "      <td>160.80</td>\n",
              "      <td>155.85</td>\n",
              "      <td>160.3</td>\n",
              "      <td>160.15</td>\n",
              "      <td>3124853.0</td>\n",
              "      <td>4978.80</td>\n",
              "    </tr>\n",
              "    <tr>\n",
              "      <th>1231</th>\n",
              "      <td>2013-10-11</td>\n",
              "      <td>161.15</td>\n",
              "      <td>163.45</td>\n",
              "      <td>159.00</td>\n",
              "      <td>159.8</td>\n",
              "      <td>160.05</td>\n",
              "      <td>1880046.0</td>\n",
              "      <td>3030.76</td>\n",
              "    </tr>\n",
              "    <tr>\n",
              "      <th>1230</th>\n",
              "      <td>2013-10-14</td>\n",
              "      <td>160.85</td>\n",
              "      <td>161.45</td>\n",
              "      <td>157.70</td>\n",
              "      <td>159.3</td>\n",
              "      <td>159.45</td>\n",
              "      <td>1281419.0</td>\n",
              "      <td>2039.09</td>\n",
              "    </tr>\n",
              "  </tbody>\n",
              "</table>\n",
              "</div>"
            ],
            "text/plain": [
              "           Date    Open    High  ...   Close  Total Trade Quantity  Turnover (Lacs)\n",
              "1234 2013-10-08  157.00  157.80  ...  155.80             1720413.0          2688.94\n",
              "1233 2013-10-09  155.70  158.20  ...  155.55             2049580.0          3204.49\n",
              "1232 2013-10-10  156.00  160.80  ...  160.15             3124853.0          4978.80\n",
              "1231 2013-10-11  161.15  163.45  ...  160.05             1880046.0          3030.76\n",
              "1230 2013-10-14  160.85  161.45  ...  159.45             1281419.0          2039.09\n",
              "\n",
              "[5 rows x 8 columns]"
            ]
          },
          "metadata": {},
          "execution_count": 36
        }
      ]
    },
    {
      "cell_type": "code",
      "metadata": {
        "id": "0TQK9ZBhMVVA"
      },
      "source": [
        "df.reset_index(inplace=True)"
      ],
      "execution_count": 37,
      "outputs": []
    },
    {
      "cell_type": "code",
      "metadata": {
        "colab": {
          "base_uri": "https://localhost:8080/",
          "height": 206
        },
        "id": "KYxzK8yCMXLj",
        "outputId": "b6e2f8a9-d9c3-4be9-b39e-8142e9c79efe"
      },
      "source": [
        "df.head()"
      ],
      "execution_count": 38,
      "outputs": [
        {
          "output_type": "execute_result",
          "data": {
            "text/html": [
              "<div>\n",
              "<style scoped>\n",
              "    .dataframe tbody tr th:only-of-type {\n",
              "        vertical-align: middle;\n",
              "    }\n",
              "\n",
              "    .dataframe tbody tr th {\n",
              "        vertical-align: top;\n",
              "    }\n",
              "\n",
              "    .dataframe thead th {\n",
              "        text-align: right;\n",
              "    }\n",
              "</style>\n",
              "<table border=\"1\" class=\"dataframe\">\n",
              "  <thead>\n",
              "    <tr style=\"text-align: right;\">\n",
              "      <th></th>\n",
              "      <th>index</th>\n",
              "      <th>Date</th>\n",
              "      <th>Open</th>\n",
              "      <th>High</th>\n",
              "      <th>Low</th>\n",
              "      <th>Last</th>\n",
              "      <th>Close</th>\n",
              "      <th>Total Trade Quantity</th>\n",
              "      <th>Turnover (Lacs)</th>\n",
              "    </tr>\n",
              "  </thead>\n",
              "  <tbody>\n",
              "    <tr>\n",
              "      <th>0</th>\n",
              "      <td>1234</td>\n",
              "      <td>2013-10-08</td>\n",
              "      <td>157.00</td>\n",
              "      <td>157.80</td>\n",
              "      <td>155.20</td>\n",
              "      <td>155.8</td>\n",
              "      <td>155.80</td>\n",
              "      <td>1720413.0</td>\n",
              "      <td>2688.94</td>\n",
              "    </tr>\n",
              "    <tr>\n",
              "      <th>1</th>\n",
              "      <td>1233</td>\n",
              "      <td>2013-10-09</td>\n",
              "      <td>155.70</td>\n",
              "      <td>158.20</td>\n",
              "      <td>154.15</td>\n",
              "      <td>155.3</td>\n",
              "      <td>155.55</td>\n",
              "      <td>2049580.0</td>\n",
              "      <td>3204.49</td>\n",
              "    </tr>\n",
              "    <tr>\n",
              "      <th>2</th>\n",
              "      <td>1232</td>\n",
              "      <td>2013-10-10</td>\n",
              "      <td>156.00</td>\n",
              "      <td>160.80</td>\n",
              "      <td>155.85</td>\n",
              "      <td>160.3</td>\n",
              "      <td>160.15</td>\n",
              "      <td>3124853.0</td>\n",
              "      <td>4978.80</td>\n",
              "    </tr>\n",
              "    <tr>\n",
              "      <th>3</th>\n",
              "      <td>1231</td>\n",
              "      <td>2013-10-11</td>\n",
              "      <td>161.15</td>\n",
              "      <td>163.45</td>\n",
              "      <td>159.00</td>\n",
              "      <td>159.8</td>\n",
              "      <td>160.05</td>\n",
              "      <td>1880046.0</td>\n",
              "      <td>3030.76</td>\n",
              "    </tr>\n",
              "    <tr>\n",
              "      <th>4</th>\n",
              "      <td>1230</td>\n",
              "      <td>2013-10-14</td>\n",
              "      <td>160.85</td>\n",
              "      <td>161.45</td>\n",
              "      <td>157.70</td>\n",
              "      <td>159.3</td>\n",
              "      <td>159.45</td>\n",
              "      <td>1281419.0</td>\n",
              "      <td>2039.09</td>\n",
              "    </tr>\n",
              "  </tbody>\n",
              "</table>\n",
              "</div>"
            ],
            "text/plain": [
              "   index       Date    Open  ...   Close  Total Trade Quantity  Turnover (Lacs)\n",
              "0   1234 2013-10-08  157.00  ...  155.80             1720413.0          2688.94\n",
              "1   1233 2013-10-09  155.70  ...  155.55             2049580.0          3204.49\n",
              "2   1232 2013-10-10  156.00  ...  160.15             3124853.0          4978.80\n",
              "3   1231 2013-10-11  161.15  ...  160.05             1880046.0          3030.76\n",
              "4   1230 2013-10-14  160.85  ...  159.45             1281419.0          2039.09\n",
              "\n",
              "[5 rows x 9 columns]"
            ]
          },
          "metadata": {},
          "execution_count": 38
        }
      ]
    },
    {
      "cell_type": "code",
      "metadata": {
        "colab": {
          "base_uri": "https://localhost:8080/",
          "height": 283
        },
        "id": "Gh3wRIsVMY34",
        "outputId": "08c24261-de47-47bc-bc88-780f61f841f9"
      },
      "source": [
        "plt.plot(df['Close'])"
      ],
      "execution_count": 39,
      "outputs": [
        {
          "output_type": "execute_result",
          "data": {
            "text/plain": [
              "[<matplotlib.lines.Line2D at 0x7fc565266850>]"
            ]
          },
          "metadata": {},
          "execution_count": 39
        },
        {
          "output_type": "display_data",
          "data": {
            "image/png": "[encoded data removed]",
            "text/plain": [
              "<Figure size 432x288 with 1 Axes>"
            ]
          },
          "metadata": {
            "needs_background": "light"
          }
        }
      ]
    },
    {
      "cell_type": "code",
      "metadata": {
        "id": "RDdPLNoAMcOH"
      },
      "source": [
        "df1=df['Close']"
      ],
      "execution_count": 40,
      "outputs": []
    },
    {
      "cell_type": "code",
      "metadata": {
        "colab": {
          "base_uri": "https://localhost:8080/"
        },
        "id": "0izCP8YZMd_-",
        "outputId": "fb0c56f5-fb23-48c7-8550-c57bfb9dd588"
      },
      "source": [
        "scaler=MinMaxScaler(feature_range=(0,1))\n",
        "df1=scaler.fit_transform(np.array(df1).reshape(-1,1))\n",
        "df1"
      ],
      "execution_count": 41,
      "outputs": [
        {
          "output_type": "execute_result",
          "data": {
            "text/plain": [
              "array([[0.23823398],\n",
              "       [0.2371134 ],\n",
              "       [0.25773196],\n",
              "       ...,\n",
              "       [0.51792918],\n",
              "       [0.47758853],\n",
              "       [0.50425818]])"
            ]
          },
          "metadata": {},
          "execution_count": 41
        }
      ]
    },
    {
      "cell_type": "code",
      "metadata": {
        "colab": {
          "base_uri": "https://localhost:8080/"
        },
        "id": "0IbU00jYMf5p",
        "outputId": "f584d755-4965-481b-dce1-0a2eef0cdd29"
      },
      "source": [
        "scaler=MinMaxScaler(feature_range=(0,1))\n",
        "df1=scaler.fit_transform(np.array(df1).reshape(-1,1))\n",
        "df1"
      ],
      "execution_count": 42,
      "outputs": [
        {
          "output_type": "execute_result",
          "data": {
            "text/plain": [
              "array([[0.23823398],\n",
              "       [0.2371134 ],\n",
              "       [0.25773196],\n",
              "       ...,\n",
              "       [0.51792918],\n",
              "       [0.47758853],\n",
              "       [0.50425818]])"
            ]
          },
          "metadata": {},
          "execution_count": 42
        }
      ]
    },
    {
      "cell_type": "code",
      "metadata": {
        "id": "JxlkgJooMjiC"
      },
      "source": [
        "training_size=int(len(df1)*0.70)\n",
        "test_size=len(df1)-training_size\n",
        "train_data,test_data=df1[0:training_size,:],df1[training_size:len(df1),:1]"
      ],
      "execution_count": 43,
      "outputs": []
    },
    {
      "cell_type": "code",
      "metadata": {
        "colab": {
          "base_uri": "https://localhost:8080/"
        },
        "id": "dsyHIkfsMmYX",
        "outputId": "b14c9fdd-7615-4b3e-8cd3-df724bbcbeba"
      },
      "source": [
        "training_size,test_size"
      ],
      "execution_count": 44,
      "outputs": [
        {
          "output_type": "execute_result",
          "data": {
            "text/plain": [
              "(864, 371)"
            ]
          },
          "metadata": {},
          "execution_count": 44
        }
      ]
    },
    {
      "cell_type": "code",
      "metadata": {
        "id": "LJhRNItrMwFb"
      },
      "source": [
        "def create_dataset(dataset, time_step=1):\n",
        "\tdataX, dataY = [], []\n",
        "\tfor i in range(len(dataset)-time_step-1):\n",
        "\t\ta = dataset[i:(i+time_step), 0]   ###i=0, 0,1,2,3-----99   100 \n",
        "\t\tdataX.append(a)\n",
        "\t\tdataY.append(dataset[i + time_step, 0])\n",
        "\treturn np.array(dataX), np.array(dataY)"
      ],
      "execution_count": 45,
      "outputs": []
    },
    {
      "cell_type": "code",
      "metadata": {
        "id": "WfL6CwiyMyIC"
      },
      "source": [
        "time_step = 100\n",
        "X_train, y_train = create_dataset(train_data, time_step)\n",
        "X_test, ytest = create_dataset(test_data, time_step)"
      ],
      "execution_count": 46,
      "outputs": []
    },
    {
      "cell_type": "code",
      "metadata": {
        "colab": {
          "base_uri": "https://localhost:8080/"
        },
        "id": "ma1R6BDMM0GE",
        "outputId": "8fdae73c-c8e1-450b-bed3-20d2cff23587"
      },
      "source": [
        "print(X_train.shape), print(y_train.shape)"
      ],
      "execution_count": 47,
      "outputs": [
        {
          "output_type": "stream",
          "name": "stdout",
          "text": [
            "(763, 100)\n",
            "(763,)\n"
          ]
        },
        {
          "output_type": "execute_result",
          "data": {
            "text/plain": [
              "(None, None)"
            ]
          },
          "metadata": {},
          "execution_count": 47
        }
      ]
    },
    {
      "cell_type": "code",
      "metadata": {
        "colab": {
          "base_uri": "https://localhost:8080/"
        },
        "id": "MKAM6-mEM3M9",
        "outputId": "993072e7-ca50-4cc2-81ac-f17449f8184c"
      },
      "source": [
        "print(X_test.shape), print(ytest.shape)"
      ],
      "execution_count": 48,
      "outputs": [
        {
          "output_type": "stream",
          "name": "stdout",
          "text": [
            "(270, 100)\n",
            "(270,)\n"
          ]
        },
        {
          "output_type": "execute_result",
          "data": {
            "text/plain": [
              "(None, None)"
            ]
          },
          "metadata": {},
          "execution_count": 48
        }
      ]
    },
    {
      "cell_type": "code",
      "metadata": {
        "id": "EBywflRiM5J_"
      },
      "source": [
        "X_train =X_train.reshape(X_train.shape[0],X_train.shape[1] , 1)\n",
        "X_test = X_test.reshape(X_test.shape[0],X_test.shape[1] , 1)"
      ],
      "execution_count": 49,
      "outputs": []
    },
    {
      "cell_type": "code",
      "metadata": {
        "id": "1gHOp6P5M7LV"
      },
      "source": [
        "from tensorflow.keras.models import Sequential\n",
        "from tensorflow.keras.layers import Dense\n",
        "from tensorflow.keras.layers import LSTM"
      ],
      "execution_count": 50,
      "outputs": []
    },
    {
      "cell_type": "code",
      "metadata": {
        "colab": {
          "base_uri": "https://localhost:8080/"
        },
        "id": "Ystvo_Y0M9c0",
        "outputId": "bb26c33e-60f0-44de-d131-e985c39cba20"
      },
      "source": [
        "model=Sequential()\n",
        "model.add(LSTM(50,return_sequences=True,input_shape=(100,1)))\n",
        "model.add(LSTM(50,return_sequences=True))\n",
        "model.add(LSTM(50))\n",
        "model.add(Dense(1))\n",
        "model.compile(loss='mean_squared_error',optimizer='adam')\n",
        "model.summary()"
      ],
      "execution_count": 51,
      "outputs": [
        {
          "output_type": "stream",
          "name": "stdout",
          "text": [
            "Model: \"sequential_1\"\n",
            "_________________________________________________________________\n",
            " Layer (type)                Output Shape              Param #   \n",
            "=================================================================\n",
            " lstm_3 (LSTM)               (None, 100, 50)           10400     \n",
            "                                                                 \n",
            " lstm_4 (LSTM)               (None, 100, 50)           20200     \n",
            "                                                                 \n",
            " lstm_5 (LSTM)               (None, 50)                20200     \n",
            "                                                                 \n",
            " dense_1 (Dense)             (None, 1)                 51        \n",
            "                                                                 \n",
            "=================================================================\n",
            "Total params: 50,851\n",
            "Trainable params: 50,851\n",
            "Non-trainable params: 0\n",
            "_________________________________________________________________\n"
          ]
        }
      ]
    },
    {
      "cell_type": "code",
      "metadata": {
        "colab": {
          "base_uri": "https://localhost:8080/"
        },
        "id": "5p0oz8pBNA2P",
        "outputId": "2099a555-c3ba-478a-a83d-36e40088db19"
      },
      "source": [
        "model.fit(X_train,y_train,validation_split=0.1,epochs=60,batch_size=64,verbose=1)"
      ],
      "execution_count": 52,
      "outputs": [
        {
          "output_type": "stream",
          "name": "stdout",
          "text": [
            "Epoch 1/60\n",
            "11/11 [==============================] - 9s 305ms/step - loss: 0.0083 - val_loss: 0.0016\n",
            "Epoch 2/60\n",
            "11/11 [==============================] - 2s 177ms/step - loss: 0.0026 - val_loss: 0.0015\n",
            "Epoch 3/60\n",
            "11/11 [==============================] - 2s 177ms/step - loss: 0.0019 - val_loss: 8.4894e-04\n",
            "Epoch 4/60\n",
            "11/11 [==============================] - 2s 177ms/step - loss: 0.0013 - val_loss: 6.3487e-04\n",
            "Epoch 5/60\n",
            "11/11 [==============================] - 2s 177ms/step - loss: 0.0011 - val_loss: 6.0620e-04\n",
            "Epoch 6/60\n",
            "11/11 [==============================] - 2s 175ms/step - loss: 0.0010 - val_loss: 7.5412e-04\n",
            "Epoch 7/60\n",
            "11/11 [==============================] - 2s 175ms/step - loss: 9.8223e-04 - val_loss: 7.0836e-04\n",
            "Epoch 8/60\n",
            "11/11 [==============================] - 2s 174ms/step - loss: 9.3278e-04 - val_loss: 8.1339e-04\n",
            "Epoch 9/60\n",
            "11/11 [==============================] - 2s 173ms/step - loss: 9.6668e-04 - val_loss: 9.1586e-04\n",
            "Epoch 10/60\n",
            "11/11 [==============================] - 2s 176ms/step - loss: 9.7041e-04 - val_loss: 8.1037e-04\n",
            "Epoch 11/60\n",
            "11/11 [==============================] - 2s 177ms/step - loss: 8.6996e-04 - val_loss: 5.1588e-04\n",
            "Epoch 12/60\n",
            "11/11 [==============================] - 2s 177ms/step - loss: 8.2987e-04 - val_loss: 4.3194e-04\n",
            "Epoch 13/60\n",
            "11/11 [==============================] - 2s 178ms/step - loss: 8.2878e-04 - val_loss: 5.1345e-04\n",
            "Epoch 14/60\n",
            "11/11 [==============================] - 2s 181ms/step - loss: 7.8354e-04 - val_loss: 5.0343e-04\n",
            "Epoch 15/60\n",
            "11/11 [==============================] - 2s 177ms/step - loss: 7.4719e-04 - val_loss: 4.1715e-04\n",
            "Epoch 16/60\n",
            "11/11 [==============================] - 2s 184ms/step - loss: 7.2792e-04 - val_loss: 4.9367e-04\n",
            "Epoch 17/60\n",
            "11/11 [==============================] - 2s 174ms/step - loss: 7.1400e-04 - val_loss: 4.3024e-04\n",
            "Epoch 18/60\n",
            "11/11 [==============================] - 2s 175ms/step - loss: 7.2958e-04 - val_loss: 4.2052e-04\n",
            "Epoch 19/60\n",
            "11/11 [==============================] - 2s 177ms/step - loss: 6.7835e-04 - val_loss: 4.2872e-04\n",
            "Epoch 20/60\n",
            "11/11 [==============================] - 2s 176ms/step - loss: 6.5034e-04 - val_loss: 3.6014e-04\n",
            "Epoch 21/60\n",
            "11/11 [==============================] - 2s 177ms/step - loss: 6.4789e-04 - val_loss: 4.1473e-04\n",
            "Epoch 22/60\n",
            "11/11 [==============================] - 2s 179ms/step - loss: 6.5034e-04 - val_loss: 3.4430e-04\n",
            "Epoch 23/60\n",
            "11/11 [==============================] - 2s 176ms/step - loss: 6.3123e-04 - val_loss: 4.6513e-04\n",
            "Epoch 24/60\n",
            "11/11 [==============================] - 2s 178ms/step - loss: 6.2386e-04 - val_loss: 3.8705e-04\n",
            "Epoch 25/60\n",
            "11/11 [==============================] - 2s 175ms/step - loss: 5.7234e-04 - val_loss: 3.8679e-04\n",
            "Epoch 26/60\n",
            "11/11 [==============================] - 2s 173ms/step - loss: 5.6225e-04 - val_loss: 3.2617e-04\n",
            "Epoch 27/60\n",
            "11/11 [==============================] - 2s 175ms/step - loss: 5.4460e-04 - val_loss: 3.9044e-04\n",
            "Epoch 28/60\n",
            "11/11 [==============================] - 2s 196ms/step - loss: 5.3210e-04 - val_loss: 3.3556e-04\n",
            "Epoch 29/60\n",
            "11/11 [==============================] - 2s 182ms/step - loss: 5.3057e-04 - val_loss: 3.2567e-04\n",
            "Epoch 30/60\n",
            "11/11 [==============================] - 2s 177ms/step - loss: 5.4209e-04 - val_loss: 5.1532e-04\n",
            "Epoch 31/60\n",
            "11/11 [==============================] - 2s 175ms/step - loss: 5.2052e-04 - val_loss: 4.1430e-04\n",
            "Epoch 32/60\n",
            "11/11 [==============================] - 2s 177ms/step - loss: 5.0441e-04 - val_loss: 3.0968e-04\n",
            "Epoch 33/60\n",
            "11/11 [==============================] - 2s 174ms/step - loss: 4.9266e-04 - val_loss: 3.7718e-04\n",
            "Epoch 34/60\n",
            "11/11 [==============================] - 2s 176ms/step - loss: 4.9575e-04 - val_loss: 3.8864e-04\n",
            "Epoch 35/60\n",
            "11/11 [==============================] - 2s 178ms/step - loss: 4.9302e-04 - val_loss: 3.2368e-04\n",
            "Epoch 36/60\n",
            "11/11 [==============================] - 2s 177ms/step - loss: 5.9950e-04 - val_loss: 4.5210e-04\n",
            "Epoch 37/60\n",
            "11/11 [==============================] - 2s 174ms/step - loss: 5.5049e-04 - val_loss: 5.0806e-04\n",
            "Epoch 38/60\n",
            "11/11 [==============================] - 2s 176ms/step - loss: 5.2982e-04 - val_loss: 3.1459e-04\n",
            "Epoch 39/60\n",
            "11/11 [==============================] - 2s 173ms/step - loss: 4.7008e-04 - val_loss: 2.9039e-04\n",
            "Epoch 40/60\n",
            "11/11 [==============================] - 2s 173ms/step - loss: 4.4743e-04 - val_loss: 3.3733e-04\n",
            "Epoch 41/60\n",
            "11/11 [==============================] - 2s 174ms/step - loss: 4.4365e-04 - val_loss: 2.8477e-04\n",
            "Epoch 42/60\n",
            "11/11 [==============================] - 2s 173ms/step - loss: 4.5524e-04 - val_loss: 3.0976e-04\n",
            "Epoch 43/60\n",
            "11/11 [==============================] - 2s 177ms/step - loss: 4.2975e-04 - val_loss: 4.0031e-04\n",
            "Epoch 44/60\n",
            "11/11 [==============================] - 2s 174ms/step - loss: 4.8826e-04 - val_loss: 2.5093e-04\n",
            "Epoch 45/60\n",
            "11/11 [==============================] - 2s 175ms/step - loss: 4.5781e-04 - val_loss: 2.8897e-04\n",
            "Epoch 46/60\n",
            "11/11 [==============================] - 2s 174ms/step - loss: 4.1542e-04 - val_loss: 3.5267e-04\n",
            "Epoch 47/60\n",
            "11/11 [==============================] - 2s 177ms/step - loss: 4.0870e-04 - val_loss: 2.6019e-04\n",
            "Epoch 48/60\n",
            "11/11 [==============================] - 2s 173ms/step - loss: 4.0679e-04 - val_loss: 3.8598e-04\n",
            "Epoch 49/60\n",
            "11/11 [==============================] - 2s 175ms/step - loss: 4.0500e-04 - val_loss: 2.7455e-04\n",
            "Epoch 50/60\n",
            "11/11 [==============================] - 2s 175ms/step - loss: 3.9002e-04 - val_loss: 2.3490e-04\n",
            "Epoch 51/60\n",
            "11/11 [==============================] - 2s 176ms/step - loss: 4.1949e-04 - val_loss: 2.8719e-04\n",
            "Epoch 52/60\n",
            "11/11 [==============================] - 2s 173ms/step - loss: 4.1791e-04 - val_loss: 3.1470e-04\n",
            "Epoch 53/60\n",
            "11/11 [==============================] - 2s 172ms/step - loss: 3.9552e-04 - val_loss: 2.3018e-04\n",
            "Epoch 54/60\n",
            "11/11 [==============================] - 2s 178ms/step - loss: 3.9015e-04 - val_loss: 2.3297e-04\n",
            "Epoch 55/60\n",
            "11/11 [==============================] - 2s 174ms/step - loss: 3.9046e-04 - val_loss: 2.2372e-04\n",
            "Epoch 56/60\n",
            "11/11 [==============================] - 2s 175ms/step - loss: 3.6872e-04 - val_loss: 2.7334e-04\n",
            "Epoch 57/60\n",
            "11/11 [==============================] - 2s 174ms/step - loss: 3.6748e-04 - val_loss: 2.1965e-04\n",
            "Epoch 58/60\n",
            "11/11 [==============================] - 2s 174ms/step - loss: 3.4643e-04 - val_loss: 2.1209e-04\n",
            "Epoch 59/60\n",
            "11/11 [==============================] - 2s 175ms/step - loss: 3.5059e-04 - val_loss: 2.4841e-04\n",
            "Epoch 60/60\n",
            "11/11 [==============================] - 2s 178ms/step - loss: 3.4999e-04 - val_loss: 2.6950e-04\n"
          ]
        },
        {
          "output_type": "execute_result",
          "data": {
            "text/plain": [
              "<keras.callbacks.History at 0x7fc566e3c210>"
            ]
          },
          "metadata": {},
          "execution_count": 52
        }
      ]
    },
    {
      "cell_type": "code",
      "metadata": {
        "id": "fjcMRhwsNGQS"
      },
      "source": [
        "test_predict=model.predict(X_test)"
      ],
      "execution_count": 53,
      "outputs": []
    },
    {
      "cell_type": "code",
      "metadata": {
        "id": "tvFMuGhWNS1e"
      },
      "source": [
        "test_predict1=scaler.inverse_transform(test_predict)"
      ],
      "execution_count": 54,
      "outputs": []
    },
    {
      "cell_type": "code",
      "metadata": {
        "colab": {
          "base_uri": "https://localhost:8080/"
        },
        "id": "PRBcnO9KNV3m",
        "outputId": "03da3930-016d-475d-b282-fd23deb46372"
      },
      "source": [
        "test_predict1"
      ],
      "execution_count": 55,
      "outputs": [
        {
          "output_type": "execute_result",
          "data": {
            "text/plain": [
              "array([[0.38526633],\n",
              "       [0.38694406],\n",
              "       [0.39714602],\n",
              "       [0.41177335],\n",
              "       [0.42684084],\n",
              "       [0.44072556],\n",
              "       [0.4533425 ],\n",
              "       [0.4581995 ],\n",
              "       [0.46067736],\n",
              "       [0.46033362],\n",
              "       [0.46067682],\n",
              "       [0.46429038],\n",
              "       [0.46697408],\n",
              "       [0.4665415 ],\n",
              "       [0.45396984],\n",
              "       [0.43210042],\n",
              "       [0.4171416 ],\n",
              "       [0.40642223],\n",
              "       [0.4044789 ],\n",
              "       [0.41146243],\n",
              "       [0.42349198],\n",
              "       [0.43472528],\n",
              "       [0.44672984],\n",
              "       [0.45729008],\n",
              "       [0.46340382],\n",
              "       [0.46522045],\n",
              "       [0.46478283],\n",
              "       [0.46549565],\n",
              "       [0.4653443 ],\n",
              "       [0.4636323 ],\n",
              "       [0.46170712],\n",
              "       [0.4569362 ],\n",
              "       [0.44914797],\n",
              "       [0.43989304],\n",
              "       [0.43784696],\n",
              "       [0.43788758],\n",
              "       [0.4427161 ],\n",
              "       [0.45959055],\n",
              "       [0.48723647],\n",
              "       [0.51554173],\n",
              "       [0.5372758 ],\n",
              "       [0.54736185],\n",
              "       [0.5459888 ],\n",
              "       [0.54689336],\n",
              "       [0.54013956],\n",
              "       [0.5283091 ],\n",
              "       [0.5320096 ],\n",
              "       [0.5416621 ],\n",
              "       [0.54949224],\n",
              "       [0.56604415],\n",
              "       [0.5892824 ],\n",
              "       [0.6115007 ],\n",
              "       [0.6349943 ],\n",
              "       [0.6696424 ],\n",
              "       [0.69980806],\n",
              "       [0.7173815 ],\n",
              "       [0.7215697 ],\n",
              "       [0.7202148 ],\n",
              "       [0.71404773],\n",
              "       [0.7183122 ],\n",
              "       [0.71841717],\n",
              "       [0.7229144 ],\n",
              "       [0.72481287],\n",
              "       [0.718954  ],\n",
              "       [0.7118916 ],\n",
              "       [0.7015809 ],\n",
              "       [0.70435494],\n",
              "       [0.7213175 ],\n",
              "       [0.75444114],\n",
              "       [0.7743592 ],\n",
              "       [0.77498585],\n",
              "       [0.7647127 ],\n",
              "       [0.7557585 ],\n",
              "       [0.7562496 ],\n",
              "       [0.7746981 ],\n",
              "       [0.79828453],\n",
              "       [0.815422  ],\n",
              "       [0.8260264 ],\n",
              "       [0.8336078 ],\n",
              "       [0.8363493 ],\n",
              "       [0.8361747 ],\n",
              "       [0.84686184],\n",
              "       [0.8555991 ],\n",
              "       [0.85662186],\n",
              "       [0.8525726 ],\n",
              "       [0.8486637 ],\n",
              "       [0.8474515 ],\n",
              "       [0.8546428 ],\n",
              "       [0.8615218 ],\n",
              "       [0.8641705 ],\n",
              "       [0.8629093 ],\n",
              "       [0.87734056],\n",
              "       [0.8931404 ],\n",
              "       [0.89445513],\n",
              "       [0.88297635],\n",
              "       [0.85820997],\n",
              "       [0.8391558 ],\n",
              "       [0.8320019 ],\n",
              "       [0.83259034],\n",
              "       [0.83408594],\n",
              "       [0.8365033 ],\n",
              "       [0.83676046],\n",
              "       [0.839615  ],\n",
              "       [0.82671815],\n",
              "       [0.8061905 ],\n",
              "       [0.7724731 ],\n",
              "       [0.7407735 ],\n",
              "       [0.71428376],\n",
              "       [0.7161649 ],\n",
              "       [0.7365675 ],\n",
              "       [0.75905037],\n",
              "       [0.78406256],\n",
              "       [0.79971224],\n",
              "       [0.8006956 ],\n",
              "       [0.7878502 ],\n",
              "       [0.7610099 ],\n",
              "       [0.72743315],\n",
              "       [0.70430374],\n",
              "       [0.6893218 ],\n",
              "       [0.6928062 ],\n",
              "       [0.710034  ],\n",
              "       [0.7318338 ],\n",
              "       [0.74996984],\n",
              "       [0.759214  ],\n",
              "       [0.7608433 ],\n",
              "       [0.75526553],\n",
              "       [0.74009   ],\n",
              "       [0.7283044 ],\n",
              "       [0.7161198 ],\n",
              "       [0.7155495 ],\n",
              "       [0.7248785 ],\n",
              "       [0.7370827 ],\n",
              "       [0.74794364],\n",
              "       [0.74566513],\n",
              "       [0.7215906 ],\n",
              "       [0.6936737 ],\n",
              "       [0.67461056],\n",
              "       [0.6620794 ],\n",
              "       [0.65581435],\n",
              "       [0.66032624],\n",
              "       [0.6726795 ],\n",
              "       [0.68072826],\n",
              "       [0.7045445 ],\n",
              "       [0.7303032 ],\n",
              "       [0.74292135],\n",
              "       [0.7457253 ],\n",
              "       [0.7412577 ],\n",
              "       [0.73926985],\n",
              "       [0.7361497 ],\n",
              "       [0.72996795],\n",
              "       [0.72295535],\n",
              "       [0.7192194 ],\n",
              "       [0.7234644 ],\n",
              "       [0.73275477],\n",
              "       [0.7456684 ],\n",
              "       [0.75919354],\n",
              "       [0.76876575],\n",
              "       [0.76930135],\n",
              "       [0.7634191 ],\n",
              "       [0.76303464],\n",
              "       [0.7689796 ],\n",
              "       [0.7774186 ],\n",
              "       [0.79091567],\n",
              "       [0.7968876 ],\n",
              "       [0.7880027 ],\n",
              "       [0.77466977],\n",
              "       [0.77192754],\n",
              "       [0.7713007 ],\n",
              "       [0.7744482 ],\n",
              "       [0.7707087 ],\n",
              "       [0.7669835 ],\n",
              "       [0.7267236 ],\n",
              "       [0.6622757 ],\n",
              "       [0.60485595],\n",
              "       [0.5783201 ],\n",
              "       [0.5763653 ],\n",
              "       [0.58871967],\n",
              "       [0.61087877],\n",
              "       [0.6376745 ],\n",
              "       [0.66576487],\n",
              "       [0.69126564],\n",
              "       [0.71106976],\n",
              "       [0.7174352 ],\n",
              "       [0.7201195 ],\n",
              "       [0.7245311 ],\n",
              "       [0.7203387 ],\n",
              "       [0.7003885 ],\n",
              "       [0.6848225 ],\n",
              "       [0.67899925],\n",
              "       [0.6814532 ],\n",
              "       [0.6870026 ],\n",
              "       [0.6882396 ],\n",
              "       [0.69052863],\n",
              "       [0.6955949 ],\n",
              "       [0.71054924],\n",
              "       [0.7205878 ],\n",
              "       [0.7272087 ],\n",
              "       [0.7199437 ],\n",
              "       [0.6986648 ],\n",
              "       [0.6726391 ],\n",
              "       [0.6567715 ],\n",
              "       [0.6552753 ],\n",
              "       [0.66634303],\n",
              "       [0.6798429 ],\n",
              "       [0.6887926 ],\n",
              "       [0.698895  ],\n",
              "       [0.70193523],\n",
              "       [0.7188796 ],\n",
              "       [0.7360704 ],\n",
              "       [0.739403  ],\n",
              "       [0.72625965],\n",
              "       [0.7176785 ],\n",
              "       [0.7147606 ],\n",
              "       [0.7095336 ],\n",
              "       [0.6981754 ],\n",
              "       [0.67914784],\n",
              "       [0.6438023 ],\n",
              "       [0.6147675 ],\n",
              "       [0.5898983 ],\n",
              "       [0.5690106 ],\n",
              "       [0.5627383 ],\n",
              "       [0.573565  ],\n",
              "       [0.59622246],\n",
              "       [0.6106078 ],\n",
              "       [0.61748683],\n",
              "       [0.62199926],\n",
              "       [0.62443143],\n",
              "       [0.6296423 ],\n",
              "       [0.62295365],\n",
              "       [0.6087106 ],\n",
              "       [0.59269184],\n",
              "       [0.58479065],\n",
              "       [0.5821228 ],\n",
              "       [0.58122647],\n",
              "       [0.58201087],\n",
              "       [0.57960975],\n",
              "       [0.5764672 ],\n",
              "       [0.57698655],\n",
              "       [0.5817775 ],\n",
              "       [0.5916219 ],\n",
              "       [0.6041235 ],\n",
              "       [0.60963017],\n",
              "       [0.60294676],\n",
              "       [0.5854478 ],\n",
              "       [0.5723093 ],\n",
              "       [0.5624529 ],\n",
              "       [0.5579184 ],\n",
              "       [0.5592488 ],\n",
              "       [0.5621021 ],\n",
              "       [0.5673444 ],\n",
              "       [0.5596971 ],\n",
              "       [0.5438375 ],\n",
              "       [0.526464  ],\n",
              "       [0.51516545],\n",
              "       [0.510139  ],\n",
              "       [0.5044031 ],\n",
              "       [0.5054426 ],\n",
              "       [0.52234596],\n",
              "       [0.54887563],\n",
              "       [0.5727717 ],\n",
              "       [0.58759487],\n",
              "       [0.5919913 ],\n",
              "       [0.5871137 ],\n",
              "       [0.5803076 ],\n",
              "       [0.5721725 ],\n",
              "       [0.56362516],\n",
              "       [0.55702734],\n",
              "       [0.5502253 ],\n",
              "       [0.5413278 ],\n",
              "       [0.52393544]], dtype=float32)"
            ]
          },
          "metadata": {},
          "execution_count": 55
        }
      ]
    },
    {
      "cell_type": "code",
      "metadata": {
        "colab": {
          "base_uri": "https://localhost:8080/"
        },
        "id": "zmOttlECNZtC",
        "outputId": "cf08e754-0782-4d95-a3f5-efc65a4a7802"
      },
      "source": [
        "import math\n",
        "from sklearn.metrics import mean_squared_error\n",
        "math.sqrt(mean_squared_error(ytest,test_predict))"
      ],
      "execution_count": 56,
      "outputs": [
        {
          "output_type": "execute_result",
          "data": {
            "text/plain": [
              "0.05669568201597894"
            ]
          },
          "metadata": {},
          "execution_count": 56
        }
      ]
    }
  ]
}